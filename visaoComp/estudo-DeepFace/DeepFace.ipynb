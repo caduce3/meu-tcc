{
 "cells": [
  {
   "cell_type": "code",
   "execution_count": 17,
   "id": "49297a10",
   "metadata": {},
   "outputs": [
    {
     "name": "stdout",
     "output_type": "stream",
     "text": [
      "Requirement already satisfied: deepface in c:\\users\\caduc\\anaconda3\\envs\\estudos-python-emocoes\\lib\\site-packages (0.0.75)\n",
      "Requirement already satisfied: Flask>=1.1.2 in c:\\users\\caduc\\anaconda3\\envs\\estudos-python-emocoes\\lib\\site-packages (from deepface) (2.2.2)\n",
      "Requirement already satisfied: tensorflow>=1.9.0 in c:\\users\\caduc\\anaconda3\\envs\\estudos-python-emocoes\\lib\\site-packages (from deepface) (2.9.1)\n",
      "Requirement already satisfied: opencv-python>=4.5.5.64 in c:\\users\\caduc\\anaconda3\\envs\\estudos-python-emocoes\\lib\\site-packages (from deepface) (4.6.0)\n",
      "Requirement already satisfied: gdown>=3.10.1 in c:\\users\\caduc\\anaconda3\\envs\\estudos-python-emocoes\\lib\\site-packages (from deepface) (4.5.1)\n",
      "Requirement already satisfied: keras>=2.2.0 in c:\\users\\caduc\\anaconda3\\envs\\estudos-python-emocoes\\lib\\site-packages (from deepface) (2.9.0)\n",
      "Requirement already satisfied: numpy>=1.14.0 in c:\\users\\caduc\\anaconda3\\envs\\estudos-python-emocoes\\lib\\site-packages (from deepface) (1.23.2)\n",
      "Requirement already satisfied: retina-face>=0.0.1 in c:\\users\\caduc\\anaconda3\\envs\\estudos-python-emocoes\\lib\\site-packages (from deepface) (0.0.12)\n",
      "Requirement already satisfied: mtcnn>=0.1.0 in c:\\users\\caduc\\anaconda3\\envs\\estudos-python-emocoes\\lib\\site-packages (from deepface) (0.1.1)\n",
      "Requirement already satisfied: pandas>=0.23.4 in c:\\users\\caduc\\anaconda3\\envs\\estudos-python-emocoes\\lib\\site-packages (from deepface) (1.4.3)\n",
      "Requirement already satisfied: tqdm>=4.30.0 in c:\\users\\caduc\\anaconda3\\envs\\estudos-python-emocoes\\lib\\site-packages (from deepface) (4.64.0)\n",
      "Requirement already satisfied: fire>=0.4.0 in c:\\users\\caduc\\anaconda3\\envs\\estudos-python-emocoes\\lib\\site-packages (from deepface) (0.4.0)\n",
      "Requirement already satisfied: Pillow>=5.2.0 in c:\\users\\caduc\\anaconda3\\envs\\estudos-python-emocoes\\lib\\site-packages (from deepface) (9.2.0)\n",
      "Requirement already satisfied: six in c:\\users\\caduc\\anaconda3\\envs\\estudos-python-emocoes\\lib\\site-packages (from fire>=0.4.0->deepface) (1.16.0)\n",
      "Note: you may need to restart the kernel to use updated packages.Requirement already satisfied: termcolor in c:\\users\\caduc\\anaconda3\\envs\\estudos-python-emocoes\\lib\\site-packages (from fire>=0.4.0->deepface) (1.1.0)\n",
      "\n",
      "Requirement already satisfied: click>=8.0 in c:\\users\\caduc\\anaconda3\\envs\\estudos-python-emocoes\\lib\\site-packages (from Flask>=1.1.2->deepface) (8.1.3)\n",
      "Requirement already satisfied: Jinja2>=3.0 in c:\\users\\caduc\\anaconda3\\envs\\estudos-python-emocoes\\lib\\site-packages (from Flask>=1.1.2->deepface) (3.0.3)\n",
      "Requirement already satisfied: itsdangerous>=2.0 in c:\\users\\caduc\\anaconda3\\envs\\estudos-python-emocoes\\lib\\site-packages (from Flask>=1.1.2->deepface) (2.1.2)\n",
      "Requirement already satisfied: Werkzeug>=2.2.2 in c:\\users\\caduc\\anaconda3\\envs\\estudos-python-emocoes\\lib\\site-packages (from Flask>=1.1.2->deepface) (2.2.2)\n",
      "Requirement already satisfied: filelock in c:\\users\\caduc\\anaconda3\\envs\\estudos-python-emocoes\\lib\\site-packages (from gdown>=3.10.1->deepface) (3.8.0)\n",
      "Requirement already satisfied: requests[socks] in c:\\users\\caduc\\anaconda3\\envs\\estudos-python-emocoes\\lib\\site-packages (from gdown>=3.10.1->deepface) (2.28.1)\n",
      "Requirement already satisfied: beautifulsoup4 in c:\\users\\caduc\\anaconda3\\envs\\estudos-python-emocoes\\lib\\site-packages (from gdown>=3.10.1->deepface) (4.11.1)\n",
      "Requirement already satisfied: python-dateutil>=2.8.1 in c:\\users\\caduc\\anaconda3\\envs\\estudos-python-emocoes\\lib\\site-packages (from pandas>=0.23.4->deepface) (2.8.2)\n",
      "Requirement already satisfied: pytz>=2020.1 in c:\\users\\caduc\\anaconda3\\envs\\estudos-python-emocoes\\lib\\site-packages (from pandas>=0.23.4->deepface) (2022.2.1)\n",
      "Requirement already satisfied: tensorflow-io-gcs-filesystem>=0.23.1 in c:\\users\\caduc\\anaconda3\\envs\\estudos-python-emocoes\\lib\\site-packages (from tensorflow>=1.9.0->deepface) (0.26.0)\n",
      "Requirement already satisfied: protobuf<3.20,>=3.9.2 in c:\\users\\caduc\\anaconda3\\envs\\estudos-python-emocoes\\lib\\site-packages (from tensorflow>=1.9.0->deepface) (3.19.4)\n",
      "Requirement already satisfied: setuptools in c:\\users\\caduc\\anaconda3\\envs\\estudos-python-emocoes\\lib\\site-packages (from tensorflow>=1.9.0->deepface) (65.3.0)\n",
      "Requirement already satisfied: h5py>=2.9.0 in c:\\users\\caduc\\anaconda3\\envs\\estudos-python-emocoes\\lib\\site-packages (from tensorflow>=1.9.0->deepface) (3.7.0)\n",
      "Requirement already satisfied: gast<=0.4.0,>=0.2.1 in c:\\users\\caduc\\anaconda3\\envs\\estudos-python-emocoes\\lib\\site-packages (from tensorflow>=1.9.0->deepface) (0.4.0)\n",
      "Requirement already satisfied: opt-einsum>=2.3.2 in c:\\users\\caduc\\anaconda3\\envs\\estudos-python-emocoes\\lib\\site-packages (from tensorflow>=1.9.0->deepface) (3.3.0)\n",
      "Requirement already satisfied: google-pasta>=0.1.1 in c:\\users\\caduc\\anaconda3\\envs\\estudos-python-emocoes\\lib\\site-packages (from tensorflow>=1.9.0->deepface) (0.2.0)\n",
      "Requirement already satisfied: keras-preprocessing>=1.1.1 in c:\\users\\caduc\\anaconda3\\envs\\estudos-python-emocoes\\lib\\site-packages (from tensorflow>=1.9.0->deepface) (1.1.2)\n",
      "Requirement already satisfied: wrapt>=1.11.0 in c:\\users\\caduc\\anaconda3\\envs\\estudos-python-emocoes\\lib\\site-packages (from tensorflow>=1.9.0->deepface) (1.14.1)\n",
      "Requirement already satisfied: tensorboard<2.10,>=2.9 in c:\\users\\caduc\\anaconda3\\envs\\estudos-python-emocoes\\lib\\site-packages (from tensorflow>=1.9.0->deepface) (2.9.1)\n",
      "Requirement already satisfied: absl-py>=1.0.0 in c:\\users\\caduc\\anaconda3\\envs\\estudos-python-emocoes\\lib\\site-packages (from tensorflow>=1.9.0->deepface) (1.2.0)\n",
      "Requirement already satisfied: libclang>=13.0.0 in c:\\users\\caduc\\anaconda3\\envs\\estudos-python-emocoes\\lib\\site-packages (from tensorflow>=1.9.0->deepface) (14.0.6)\n",
      "Requirement already satisfied: typing-extensions>=3.6.6 in c:\\users\\caduc\\anaconda3\\envs\\estudos-python-emocoes\\lib\\site-packages (from tensorflow>=1.9.0->deepface) (4.3.0)\n",
      "Requirement already satisfied: tensorflow-estimator<2.10.0,>=2.9.0rc0 in c:\\users\\caduc\\anaconda3\\envs\\estudos-python-emocoes\\lib\\site-packages (from tensorflow>=1.9.0->deepface) (2.9.0)\n",
      "Requirement already satisfied: astunparse>=1.6.0 in c:\\users\\caduc\\anaconda3\\envs\\estudos-python-emocoes\\lib\\site-packages (from tensorflow>=1.9.0->deepface) (1.6.3)\n",
      "Requirement already satisfied: grpcio<2.0,>=1.24.3 in c:\\users\\caduc\\anaconda3\\envs\\estudos-python-emocoes\\lib\\site-packages (from tensorflow>=1.9.0->deepface) (1.47.0)\n",
      "Requirement already satisfied: packaging in c:\\users\\caduc\\anaconda3\\envs\\estudos-python-emocoes\\lib\\site-packages (from tensorflow>=1.9.0->deepface) (21.3)\n",
      "Requirement already satisfied: flatbuffers<2,>=1.12 in c:\\users\\caduc\\anaconda3\\envs\\estudos-python-emocoes\\lib\\site-packages (from tensorflow>=1.9.0->deepface) (1.12)\n",
      "Requirement already satisfied: colorama in c:\\users\\caduc\\anaconda3\\envs\\estudos-python-emocoes\\lib\\site-packages (from tqdm>=4.30.0->deepface) (0.4.5)\n",
      "Requirement already satisfied: wheel<1.0,>=0.23.0 in c:\\users\\caduc\\anaconda3\\envs\\estudos-python-emocoes\\lib\\site-packages (from astunparse>=1.6.0->tensorflow>=1.9.0->deepface) (0.37.1)\n",
      "Requirement already satisfied: MarkupSafe>=2.0 in c:\\users\\caduc\\anaconda3\\envs\\estudos-python-emocoes\\lib\\site-packages (from Jinja2>=3.0->Flask>=1.1.2->deepface) (2.1.1)\n",
      "Requirement already satisfied: tensorboard-plugin-wit>=1.6.0 in c:\\users\\caduc\\anaconda3\\envs\\estudos-python-emocoes\\lib\\site-packages (from tensorboard<2.10,>=2.9->tensorflow>=1.9.0->deepface) (1.8.1)\n",
      "Requirement already satisfied: google-auth<3,>=1.6.3 in c:\\users\\caduc\\anaconda3\\envs\\estudos-python-emocoes\\lib\\site-packages (from tensorboard<2.10,>=2.9->tensorflow>=1.9.0->deepface) (2.11.0)\n",
      "Requirement already satisfied: tensorboard-data-server<0.7.0,>=0.6.0 in c:\\users\\caduc\\anaconda3\\envs\\estudos-python-emocoes\\lib\\site-packages (from tensorboard<2.10,>=2.9->tensorflow>=1.9.0->deepface) (0.6.1)\n",
      "Requirement already satisfied: google-auth-oauthlib<0.5,>=0.4.1 in c:\\users\\caduc\\anaconda3\\envs\\estudos-python-emocoes\\lib\\site-packages (from tensorboard<2.10,>=2.9->tensorflow>=1.9.0->deepface) (0.4.6)\n"
     ]
    },
    {
     "name": "stdout",
     "output_type": "stream",
     "text": [
      "Requirement already satisfied: markdown>=2.6.8 in c:\\users\\caduc\\anaconda3\\envs\\estudos-python-emocoes\\lib\\site-packages (from tensorboard<2.10,>=2.9->tensorflow>=1.9.0->deepface) (3.4.1)\n",
      "Requirement already satisfied: soupsieve>1.2 in c:\\users\\caduc\\anaconda3\\envs\\estudos-python-emocoes\\lib\\site-packages (from beautifulsoup4->gdown>=3.10.1->deepface) (2.3.1)\n",
      "Requirement already satisfied: pyparsing!=3.0.5,>=2.0.2 in c:\\users\\caduc\\anaconda3\\envs\\estudos-python-emocoes\\lib\\site-packages (from packaging->tensorflow>=1.9.0->deepface) (3.0.9)\n",
      "Requirement already satisfied: urllib3<1.27,>=1.21.1 in c:\\users\\caduc\\anaconda3\\envs\\estudos-python-emocoes\\lib\\site-packages (from requests[socks]->gdown>=3.10.1->deepface) (1.26.12)\n",
      "Requirement already satisfied: charset-normalizer<3,>=2 in c:\\users\\caduc\\anaconda3\\envs\\estudos-python-emocoes\\lib\\site-packages (from requests[socks]->gdown>=3.10.1->deepface) (2.1.1)\n",
      "Requirement already satisfied: idna<4,>=2.5 in c:\\users\\caduc\\anaconda3\\envs\\estudos-python-emocoes\\lib\\site-packages (from requests[socks]->gdown>=3.10.1->deepface) (3.3)\n",
      "Requirement already satisfied: certifi>=2017.4.17 in c:\\users\\caduc\\anaconda3\\envs\\estudos-python-emocoes\\lib\\site-packages (from requests[socks]->gdown>=3.10.1->deepface) (2022.6.15)\n",
      "Requirement already satisfied: PySocks!=1.5.7,>=1.5.6 in c:\\users\\caduc\\anaconda3\\envs\\estudos-python-emocoes\\lib\\site-packages (from requests[socks]->gdown>=3.10.1->deepface) (1.7.1)\n",
      "Requirement already satisfied: cachetools<6.0,>=2.0.0 in c:\\users\\caduc\\anaconda3\\envs\\estudos-python-emocoes\\lib\\site-packages (from google-auth<3,>=1.6.3->tensorboard<2.10,>=2.9->tensorflow>=1.9.0->deepface) (5.2.0)\n",
      "Requirement already satisfied: rsa<5,>=3.1.4 in c:\\users\\caduc\\anaconda3\\envs\\estudos-python-emocoes\\lib\\site-packages (from google-auth<3,>=1.6.3->tensorboard<2.10,>=2.9->tensorflow>=1.9.0->deepface) (4.9)\n",
      "Requirement already satisfied: pyasn1-modules>=0.2.1 in c:\\users\\caduc\\anaconda3\\envs\\estudos-python-emocoes\\lib\\site-packages (from google-auth<3,>=1.6.3->tensorboard<2.10,>=2.9->tensorflow>=1.9.0->deepface) (0.2.8)\n",
      "Requirement already satisfied: requests-oauthlib>=0.7.0 in c:\\users\\caduc\\anaconda3\\envs\\estudos-python-emocoes\\lib\\site-packages (from google-auth-oauthlib<0.5,>=0.4.1->tensorboard<2.10,>=2.9->tensorflow>=1.9.0->deepface) (1.3.1)\n",
      "Requirement already satisfied: pyasn1<0.5.0,>=0.4.6 in c:\\users\\caduc\\anaconda3\\envs\\estudos-python-emocoes\\lib\\site-packages (from pyasn1-modules>=0.2.1->google-auth<3,>=1.6.3->tensorboard<2.10,>=2.9->tensorflow>=1.9.0->deepface) (0.4.8)\n",
      "Requirement already satisfied: oauthlib>=3.0.0 in c:\\users\\caduc\\anaconda3\\envs\\estudos-python-emocoes\\lib\\site-packages (from requests-oauthlib>=0.7.0->google-auth-oauthlib<0.5,>=0.4.1->tensorboard<2.10,>=2.9->tensorflow>=1.9.0->deepface) (3.2.0)\n"
     ]
    }
   ],
   "source": [
    "pip install deepface"
   ]
  },
  {
   "cell_type": "code",
   "execution_count": 24,
   "id": "0d1fb9d9",
   "metadata": {},
   "outputs": [],
   "source": [
    "from deepface import DeepFace\n",
    "import cv2\n",
    "import matplotlib.pyplot as plt\n",
    "import numpy as np"
   ]
  },
  {
   "cell_type": "code",
   "execution_count": 25,
   "id": "28222eb5",
   "metadata": {},
   "outputs": [
    {
     "ename": "error",
     "evalue": "OpenCV(4.6.0) :-1: error: (-5:Bad argument) in function 'cvtColor'\n> Overload resolution failed:\n>  - src is not a numpy array, neither a scalar\n>  - Expected Ptr<cv::UMat> for argument 'src'\n",
     "output_type": "error",
     "traceback": [
      "\u001b[1;31m---------------------------------------------------------------------------\u001b[0m",
      "\u001b[1;31merror\u001b[0m                                     Traceback (most recent call last)",
      "Input \u001b[1;32mIn [25]\u001b[0m, in \u001b[0;36m<cell line: 2>\u001b[1;34m()\u001b[0m\n\u001b[0;32m      1\u001b[0m imagem \u001b[38;5;241m=\u001b[39m \u001b[38;5;124m'\u001b[39m\u001b[38;5;124mimagens/euSorrindo.jpeg\u001b[39m\u001b[38;5;124m'\u001b[39m\n\u001b[1;32m----> 2\u001b[0m imagem \u001b[38;5;241m=\u001b[39m \u001b[43mcv2\u001b[49m\u001b[38;5;241;43m.\u001b[39;49m\u001b[43mcvtColor\u001b[49m\u001b[43m(\u001b[49m\u001b[43mimagem\u001b[49m\u001b[43m,\u001b[49m\u001b[43m \u001b[49m\u001b[43mcv2\u001b[49m\u001b[38;5;241;43m.\u001b[39;49m\u001b[43mCOLOR_BGR2RGB\u001b[49m\u001b[43m)\u001b[49m\n\u001b[0;32m      3\u001b[0m img \u001b[38;5;241m=\u001b[39m cv2\u001b[38;5;241m.\u001b[39mimread(imagem)\n",
      "\u001b[1;31merror\u001b[0m: OpenCV(4.6.0) :-1: error: (-5:Bad argument) in function 'cvtColor'\n> Overload resolution failed:\n>  - src is not a numpy array, neither a scalar\n>  - Expected Ptr<cv::UMat> for argument 'src'\n"
     ]
    }
   ],
   "source": [
    "imagem = 'imagens/euSorrindo.jpeg'\n",
    "imagem = cv2.cvtColor(imagem, cv2.COLOR_BGR2RGB)\n",
    "img = cv2.imread(imagem)"
   ]
  },
  {
   "cell_type": "code",
   "execution_count": 26,
   "id": "aef37045",
   "metadata": {},
   "outputs": [
    {
     "ename": "TypeError",
     "evalue": "'NoneType' object is not subscriptable",
     "output_type": "error",
     "traceback": [
      "\u001b[1;31m---------------------------------------------------------------------------\u001b[0m",
      "\u001b[1;31mTypeError\u001b[0m                                 Traceback (most recent call last)",
      "Input \u001b[1;32mIn [26]\u001b[0m, in \u001b[0;36m<cell line: 1>\u001b[1;34m()\u001b[0m\n\u001b[1;32m----> 1\u001b[0m plt\u001b[38;5;241m.\u001b[39mimshow(\u001b[43mimg\u001b[49m\u001b[43m[\u001b[49m\u001b[43m:\u001b[49m\u001b[43m,\u001b[49m\u001b[43m \u001b[49m\u001b[43m:\u001b[49m\u001b[43m,\u001b[49m\u001b[43m \u001b[49m\u001b[43m:\u001b[49m\u001b[43m:\u001b[49m\u001b[38;5;241;43m-\u001b[39;49m\u001b[38;5;241;43m1\u001b[39;49m\u001b[43m \u001b[49m\u001b[43m]\u001b[49m)\n\u001b[0;32m      2\u001b[0m plt\u001b[38;5;241m.\u001b[39mshow()\n",
      "\u001b[1;31mTypeError\u001b[0m: 'NoneType' object is not subscriptable"
     ]
    }
   ],
   "source": [
    "plt.imshow(img[:, :, ::-1 ])\n",
    "plt.show()"
   ]
  },
  {
   "cell_type": "code",
   "execution_count": 22,
   "id": "5921adbb",
   "metadata": {},
   "outputs": [
    {
     "name": "stderr",
     "output_type": "stream",
     "text": [
      "Action: emotion:   0%|                                                                           | 0/4 [00:00<?, ?it/s]\n"
     ]
    },
    {
     "ename": "ValueError",
     "evalue": "('Confirm that ', 'imagens/euSorrindo.jpeg', ' exists')",
     "output_type": "error",
     "traceback": [
      "\u001b[1;31m---------------------------------------------------------------------------\u001b[0m",
      "\u001b[1;31mValueError\u001b[0m                                Traceback (most recent call last)",
      "Input \u001b[1;32mIn [22]\u001b[0m, in \u001b[0;36m<cell line: 2>\u001b[1;34m()\u001b[0m\n\u001b[0;32m      1\u001b[0m \u001b[38;5;66;03m#analise geral das emoções\u001b[39;00m\n\u001b[1;32m----> 2\u001b[0m analise \u001b[38;5;241m=\u001b[39m \u001b[43mDeepFace\u001b[49m\u001b[38;5;241;43m.\u001b[39;49m\u001b[43manalyze\u001b[49m\u001b[43m(\u001b[49m\u001b[43mimagem\u001b[49m\u001b[43m)\u001b[49m\n\u001b[0;32m      3\u001b[0m analise\n",
      "File \u001b[1;32m~\\anaconda3\\envs\\estudos-python-emocoes\\lib\\site-packages\\deepface\\DeepFace.py:393\u001b[0m, in \u001b[0;36manalyze\u001b[1;34m(img_path, actions, models, enforce_detection, detector_backend, prog_bar)\u001b[0m\n\u001b[0;32m    391\u001b[0m \u001b[38;5;28;01mif\u001b[39;00m action \u001b[38;5;241m==\u001b[39m \u001b[38;5;124m'\u001b[39m\u001b[38;5;124memotion\u001b[39m\u001b[38;5;124m'\u001b[39m:\n\u001b[0;32m    392\u001b[0m \temotion_labels \u001b[38;5;241m=\u001b[39m [\u001b[38;5;124m'\u001b[39m\u001b[38;5;124mangry\u001b[39m\u001b[38;5;124m'\u001b[39m, \u001b[38;5;124m'\u001b[39m\u001b[38;5;124mdisgust\u001b[39m\u001b[38;5;124m'\u001b[39m, \u001b[38;5;124m'\u001b[39m\u001b[38;5;124mfear\u001b[39m\u001b[38;5;124m'\u001b[39m, \u001b[38;5;124m'\u001b[39m\u001b[38;5;124mhappy\u001b[39m\u001b[38;5;124m'\u001b[39m, \u001b[38;5;124m'\u001b[39m\u001b[38;5;124msad\u001b[39m\u001b[38;5;124m'\u001b[39m, \u001b[38;5;124m'\u001b[39m\u001b[38;5;124msurprise\u001b[39m\u001b[38;5;124m'\u001b[39m, \u001b[38;5;124m'\u001b[39m\u001b[38;5;124mneutral\u001b[39m\u001b[38;5;124m'\u001b[39m]\n\u001b[1;32m--> 393\u001b[0m \timg, region \u001b[38;5;241m=\u001b[39m \u001b[43mfunctions\u001b[49m\u001b[38;5;241;43m.\u001b[39;49m\u001b[43mpreprocess_face\u001b[49m\u001b[43m(\u001b[49m\u001b[43mimg\u001b[49m\u001b[43m \u001b[49m\u001b[38;5;241;43m=\u001b[39;49m\u001b[43m \u001b[49m\u001b[43mimg_path\u001b[49m\u001b[43m,\u001b[49m\u001b[43m \u001b[49m\u001b[43mtarget_size\u001b[49m\u001b[43m \u001b[49m\u001b[38;5;241;43m=\u001b[39;49m\u001b[43m \u001b[49m\u001b[43m(\u001b[49m\u001b[38;5;241;43m48\u001b[39;49m\u001b[43m,\u001b[49m\u001b[43m \u001b[49m\u001b[38;5;241;43m48\u001b[39;49m\u001b[43m)\u001b[49m\u001b[43m,\u001b[49m\u001b[43m \u001b[49m\u001b[43mgrayscale\u001b[49m\u001b[43m \u001b[49m\u001b[38;5;241;43m=\u001b[39;49m\u001b[43m \u001b[49m\u001b[38;5;28;43;01mTrue\u001b[39;49;00m\u001b[43m,\u001b[49m\u001b[43m \u001b[49m\u001b[43menforce_detection\u001b[49m\u001b[43m \u001b[49m\u001b[38;5;241;43m=\u001b[39;49m\u001b[43m \u001b[49m\u001b[43menforce_detection\u001b[49m\u001b[43m,\u001b[49m\u001b[43m \u001b[49m\u001b[43mdetector_backend\u001b[49m\u001b[43m \u001b[49m\u001b[38;5;241;43m=\u001b[39;49m\u001b[43m \u001b[49m\u001b[43mdetector_backend\u001b[49m\u001b[43m,\u001b[49m\u001b[43m \u001b[49m\u001b[43mreturn_region\u001b[49m\u001b[43m \u001b[49m\u001b[38;5;241;43m=\u001b[39;49m\u001b[43m \u001b[49m\u001b[38;5;28;43;01mTrue\u001b[39;49;00m\u001b[43m)\u001b[49m\n\u001b[0;32m    395\u001b[0m \temotion_predictions \u001b[38;5;241m=\u001b[39m models[\u001b[38;5;124m'\u001b[39m\u001b[38;5;124memotion\u001b[39m\u001b[38;5;124m'\u001b[39m]\u001b[38;5;241m.\u001b[39mpredict(img)[\u001b[38;5;241m0\u001b[39m,:]\n\u001b[0;32m    397\u001b[0m \tsum_of_predictions \u001b[38;5;241m=\u001b[39m emotion_predictions\u001b[38;5;241m.\u001b[39msum()\n",
      "File \u001b[1;32m~\\anaconda3\\envs\\estudos-python-emocoes\\lib\\site-packages\\deepface\\commons\\functions.py:175\u001b[0m, in \u001b[0;36mpreprocess_face\u001b[1;34m(img, target_size, grayscale, enforce_detection, detector_backend, return_region, align)\u001b[0m\n\u001b[0;32m    172\u001b[0m \u001b[38;5;28;01mdef\u001b[39;00m \u001b[38;5;21mpreprocess_face\u001b[39m(img, target_size\u001b[38;5;241m=\u001b[39m(\u001b[38;5;241m224\u001b[39m, \u001b[38;5;241m224\u001b[39m), grayscale \u001b[38;5;241m=\u001b[39m \u001b[38;5;28;01mFalse\u001b[39;00m, enforce_detection \u001b[38;5;241m=\u001b[39m \u001b[38;5;28;01mTrue\u001b[39;00m, detector_backend \u001b[38;5;241m=\u001b[39m \u001b[38;5;124m'\u001b[39m\u001b[38;5;124mopencv\u001b[39m\u001b[38;5;124m'\u001b[39m, return_region \u001b[38;5;241m=\u001b[39m \u001b[38;5;28;01mFalse\u001b[39;00m, align \u001b[38;5;241m=\u001b[39m \u001b[38;5;28;01mTrue\u001b[39;00m):\n\u001b[0;32m    173\u001b[0m \n\u001b[0;32m    174\u001b[0m \t\u001b[38;5;66;03m#img might be path, base64 or numpy array. Convert it to numpy whatever it is.\u001b[39;00m\n\u001b[1;32m--> 175\u001b[0m \timg \u001b[38;5;241m=\u001b[39m \u001b[43mload_image\u001b[49m\u001b[43m(\u001b[49m\u001b[43mimg\u001b[49m\u001b[43m)\u001b[49m\n\u001b[0;32m    176\u001b[0m \tbase_img \u001b[38;5;241m=\u001b[39m img\u001b[38;5;241m.\u001b[39mcopy()\n\u001b[0;32m    178\u001b[0m \timg, region \u001b[38;5;241m=\u001b[39m detect_face(img \u001b[38;5;241m=\u001b[39m img, detector_backend \u001b[38;5;241m=\u001b[39m detector_backend, grayscale \u001b[38;5;241m=\u001b[39m grayscale, enforce_detection \u001b[38;5;241m=\u001b[39m enforce_detection, align \u001b[38;5;241m=\u001b[39m align)\n",
      "File \u001b[1;32m~\\anaconda3\\envs\\estudos-python-emocoes\\lib\\site-packages\\deepface\\commons\\functions.py:90\u001b[0m, in \u001b[0;36mload_image\u001b[1;34m(img)\u001b[0m\n\u001b[0;32m     88\u001b[0m \u001b[38;5;28;01melif\u001b[39;00m exact_image \u001b[38;5;241m!=\u001b[39m \u001b[38;5;28;01mTrue\u001b[39;00m: \u001b[38;5;66;03m#image path passed as input\u001b[39;00m\n\u001b[0;32m     89\u001b[0m \t\u001b[38;5;28;01mif\u001b[39;00m os\u001b[38;5;241m.\u001b[39mpath\u001b[38;5;241m.\u001b[39misfile(img) \u001b[38;5;241m!=\u001b[39m \u001b[38;5;28;01mTrue\u001b[39;00m:\n\u001b[1;32m---> 90\u001b[0m \t\t\u001b[38;5;28;01mraise\u001b[39;00m \u001b[38;5;167;01mValueError\u001b[39;00m(\u001b[38;5;124m\"\u001b[39m\u001b[38;5;124mConfirm that \u001b[39m\u001b[38;5;124m\"\u001b[39m,img,\u001b[38;5;124m\"\u001b[39m\u001b[38;5;124m exists\u001b[39m\u001b[38;5;124m\"\u001b[39m)\n\u001b[0;32m     92\u001b[0m \timg \u001b[38;5;241m=\u001b[39m cv2\u001b[38;5;241m.\u001b[39mimread(img)\n\u001b[0;32m     94\u001b[0m \u001b[38;5;28;01mreturn\u001b[39;00m img\n",
      "\u001b[1;31mValueError\u001b[0m: ('Confirm that ', 'imagens/euSorrindo.jpeg', ' exists')"
     ]
    }
   ],
   "source": [
    "#analise geral das emoções\n",
    "analise = DeepFace.analyze(imagem)\n",
    "analise"
   ]
  },
  {
   "cell_type": "code",
   "execution_count": null,
   "id": "5040d994",
   "metadata": {},
   "outputs": [],
   "source": []
  },
  {
   "cell_type": "code",
   "execution_count": null,
   "id": "0290e3e6",
   "metadata": {},
   "outputs": [],
   "source": []
  },
  {
   "cell_type": "code",
   "execution_count": null,
   "id": "8dfbf52d",
   "metadata": {},
   "outputs": [],
   "source": []
  },
  {
   "cell_type": "code",
   "execution_count": null,
   "id": "0565fb25",
   "metadata": {},
   "outputs": [],
   "source": []
  }
 ],
 "metadata": {
  "kernelspec": {
   "display_name": "Python 3 (ipykernel)",
   "language": "python",
   "name": "python3"
  },
  "language_info": {
   "codemirror_mode": {
    "name": "ipython",
    "version": 3
   },
   "file_extension": ".py",
   "mimetype": "text/x-python",
   "name": "python",
   "nbconvert_exporter": "python",
   "pygments_lexer": "ipython3",
   "version": "3.10.6"
  }
 },
 "nbformat": 4,
 "nbformat_minor": 5
}
